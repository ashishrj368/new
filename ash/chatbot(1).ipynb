{
 "cells": [
  {
   "cell_type": "code",
   "execution_count": null,
   "id": "65789885-4af7-4968-b92d-9759399ffaef",
   "metadata": {},
   "outputs": [
    {
     "name": "stdout",
     "output_type": "stream",
     "text": [
      "chatpot:Hi! type \"bye\" to exit chat\n"
     ]
    },
    {
     "name": "stdin",
     "output_type": "stream",
     "text": [
      "You: hi\n"
     ]
    },
    {
     "name": "stdout",
     "output_type": "stream",
     "text": [
      "chatbot: Hello! How can I help you today?\n"
     ]
    },
    {
     "name": "stdin",
     "output_type": "stream",
     "text": [
      "You: how are you\n"
     ]
    },
    {
     "name": "stdout",
     "output_type": "stream",
     "text": [
      "chatbot: I'm just a bot, but I'm doing fine! How about you?\n"
     ]
    },
    {
     "name": "stdin",
     "output_type": "stream",
     "text": [
      "You: what is your name\n"
     ]
    },
    {
     "name": "stdout",
     "output_type": "stream",
     "text": [
      "chatbot: I am a simple chatbot created by you.\n"
     ]
    },
    {
     "name": "stdin",
     "output_type": "stream",
     "text": [
      "You: where is your place\n"
     ]
    },
    {
     "name": "stdout",
     "output_type": "stream",
     "text": [
      "chatbot: Sorry, I don't understand that.\n"
     ]
    }
   ],
   "source": [
    "def get_responses(user_input):\n",
    "    user_input=user_input.lower()\n",
    "    responses={\n",
    "        \"hi\": \"Hello! How can I help you today?\",\n",
    "        \"hello\": \"Hi there! What can I do for you?\",\n",
    "        \"how are you\": \"I'm just a bot, but I'm doing fine! How about you?\",\n",
    "        \"bye\": \"Goodbye! Have a great day!\",\n",
    "        \"what is your name\": \"I am a simple chatbot created by you.\",\n",
    "        \"default\": \"Sorry, I don't understand that.\"\n",
    "    }\n",
    "    response=responses.get(user_input,responses['default'])\n",
    "    return response\n",
    "def chat():\n",
    "    print('chatpot:Hi! type \"bye\" to exit chat')\n",
    "    while True:\n",
    "        user_input=input('You:')\n",
    "        if user_input.lower()==\"bye\":\n",
    "            print('chatbot:bye!,see you next time')\n",
    "            break\n",
    "        response=get_responses(user_input)\n",
    "        print('chatbot:',response)\n",
    "if __name__==\"__main__\" :\n",
    "    chat()\n",
    "\n"
   ]
  },
  {
   "cell_type": "code",
   "execution_count": null,
   "id": "3ff0d5d4-aebd-421d-92e7-20483e5ea4e0",
   "metadata": {},
   "outputs": [],
   "source": []
  },
  {
   "cell_type": "code",
   "execution_count": null,
   "id": "8a222d48-89f8-425d-bff9-a16bf30756c5",
   "metadata": {},
   "outputs": [],
   "source": []
  }
 ],
 "metadata": {
  "kernelspec": {
   "display_name": "Python 3 (ipykernel)",
   "language": "python",
   "name": "python3"
  },
  "language_info": {
   "codemirror_mode": {
    "name": "ipython",
    "version": 3
   },
   "file_extension": ".py",
   "mimetype": "text/x-python",
   "name": "python",
   "nbconvert_exporter": "python",
   "pygments_lexer": "ipython3",
   "version": "3.12.4"
  }
 },
 "nbformat": 4,
 "nbformat_minor": 5
}
